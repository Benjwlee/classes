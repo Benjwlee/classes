{
 "metadata": {
  "name": "data_cleaning"
 },
 "nbformat": 3,
 "nbformat_minor": 0,
 "worksheets": [
  {
   "cells": [
    {
     "cell_type": "heading",
     "level": 1,
     "metadata": {},
     "source": [
      "Cleaning Price Data"
     ]
    },
    {
     "cell_type": "code",
     "collapsed": false,
     "input": [
      "from pandas import Series, DataFrame, Panel\n",
      "import pandas as pd\n",
      "\n",
      "import pandas.io.data as web\n",
      "\n",
      "tickers = ['AAPL', 'MSFT', 'GOOG', 'IBM', 'MS', 'GS', 'BAC', 'C']\n",
      "sd = '1/1/2000'\n",
      "ed = '6/1/2012'\n",
      "px = Panel({t : web.get_data_yahoo(t, sd, ed) for t in tickers})"
     ],
     "language": "python",
     "metadata": {},
     "outputs": [],
     "prompt_number": 1
    },
    {
     "cell_type": "code",
     "collapsed": false,
     "input": [
      "px"
     ],
     "language": "python",
     "metadata": {},
     "outputs": [
      {
       "output_type": "pyout",
       "prompt_number": 2,
       "text": [
        "<class 'pandas.core.panel.Panel'>\n",
        "Dimensions: 8 (items) x 3124 (major) x 6 (minor)\n",
        "Items: AAPL to MSFT\n",
        "Major axis: 2000-01-03 00:00:00 to 2012-06-01 00:00:00\n",
        "Minor axis: Open to Adj Close"
       ]
      }
     ],
     "prompt_number": 2
    },
    {
     "cell_type": "code",
     "collapsed": false,
     "input": [
      "close = px.ix[:, :, 'Adj Close']\n",
      "close"
     ],
     "language": "python",
     "metadata": {},
     "outputs": [
      {
       "output_type": "pyout",
       "prompt_number": 4,
       "text": [
        "<class 'pandas.core.frame.DataFrame'>\n",
        "DatetimeIndex: 3124 entries, 2000-01-03 00:00:00 to 2012-06-01 00:00:00\n",
        "Data columns:\n",
        "AAPL    3124  non-null values\n",
        "BAC     3124  non-null values\n",
        "C       3124  non-null values\n",
        "GOOG    1962  non-null values\n",
        "GS      3118  non-null values\n",
        "IBM     3124  non-null values\n",
        "MS      3124  non-null values\n",
        "MSFT    3124  non-null values\n",
        "dtypes: float64(8)"
       ]
      }
     ],
     "prompt_number": 4
    },
    {
     "cell_type": "code",
     "collapsed": false,
     "input": [],
     "language": "python",
     "metadata": {},
     "outputs": [
      {
       "html": [
        "<div style=\"max-height:1000px;max-width:1500px;overflow:auto;\">\n",
        "<table border=\"1\">\n",
        "  <thead>\n",
        "    <tr>\n",
        "      <th></th>\n",
        "      <th>AAPL</th>\n",
        "      <th>BAC</th>\n",
        "      <th>C</th>\n",
        "      <th>GOOG</th>\n",
        "      <th>GS</th>\n",
        "      <th>IBM</th>\n",
        "      <th>MS</th>\n",
        "      <th>MSFT</th>\n",
        "    </tr>\n",
        "    <tr>\n",
        "      <th>Date</th>\n",
        "      <th></th>\n",
        "      <th></th>\n",
        "      <th></th>\n",
        "      <th></th>\n",
        "      <th></th>\n",
        "      <th></th>\n",
        "      <th></th>\n",
        "      <th></th>\n",
        "    </tr>\n",
        "  </thead>\n",
        "  <tbody>\n",
        "    <tr>\n",
        "      <td><strong>2012-05-25 00:00:00</strong></td>\n",
        "      <td> 562.29</td>\n",
        "      <td> 7.14</td>\n",
        "      <td> 26.47</td>\n",
        "      <td> 591.53</td>\n",
        "      <td> 96.24</td>\n",
        "      <td> 194.30</td>\n",
        "      <td> 13.25</td>\n",
        "      <td> 29.06</td>\n",
        "    </tr>\n",
        "    <tr>\n",
        "      <td><strong>2012-05-29 00:00:00</strong></td>\n",
        "      <td> 572.27</td>\n",
        "      <td> 7.43</td>\n",
        "      <td> 27.02</td>\n",
        "      <td> 594.34</td>\n",
        "      <td> 97.86</td>\n",
        "      <td> 196.46</td>\n",
        "      <td> 13.64</td>\n",
        "      <td> 29.56</td>\n",
        "    </tr>\n",
        "    <tr>\n",
        "      <td><strong>2012-05-30 00:00:00</strong></td>\n",
        "      <td> 579.17</td>\n",
        "      <td> 7.20</td>\n",
        "      <td> 26.00</td>\n",
        "      <td> 588.23</td>\n",
        "      <td> 94.61</td>\n",
        "      <td> 194.53</td>\n",
        "      <td> 13.09</td>\n",
        "      <td> 29.34</td>\n",
        "    </tr>\n",
        "    <tr>\n",
        "      <td><strong>2012-05-31 00:00:00</strong></td>\n",
        "      <td> 577.73</td>\n",
        "      <td> 7.35</td>\n",
        "      <td> 26.51</td>\n",
        "      <td> 580.86</td>\n",
        "      <td> 95.70</td>\n",
        "      <td> 192.90</td>\n",
        "      <td> 13.36</td>\n",
        "      <td> 29.19</td>\n",
        "    </tr>\n",
        "    <tr>\n",
        "      <td><strong>2012-06-01 00:00:00</strong></td>\n",
        "      <td> 560.99</td>\n",
        "      <td> 7.02</td>\n",
        "      <td> 25.39</td>\n",
        "      <td> 570.98</td>\n",
        "      <td> 92.64</td>\n",
        "      <td> 189.08</td>\n",
        "      <td> 12.73</td>\n",
        "      <td> 28.45</td>\n",
        "    </tr>\n",
        "  </tbody>\n",
        "</table>\n",
        "</div>"
       ],
       "output_type": "pyout",
       "prompt_number": 6,
       "text": [
        "              AAPL   BAC      C    GOOG     GS     IBM     MS   MSFT\n",
        "Date                                                                \n",
        "2012-05-25  562.29  7.14  26.47  591.53  96.24  194.30  13.25  29.06\n",
        "2012-05-29  572.27  7.43  27.02  594.34  97.86  196.46  13.64  29.56\n",
        "2012-05-30  579.17  7.20  26.00  588.23  94.61  194.53  13.09  29.34\n",
        "2012-05-31  577.73  7.35  26.51  580.86  95.70  192.90  13.36  29.19\n",
        "2012-06-01  560.99  7.02  25.39  570.98  92.64  189.08  12.73  28.45"
       ]
      }
     ],
     "prompt_number": 6
    },
    {
     "cell_type": "heading",
     "level": 3,
     "metadata": {},
     "source": [
      "Pandas can read/write data in various formats"
     ]
    },
    {
     "cell_type": "code",
     "collapsed": false,
     "input": [
      "close.save('pickled')\n",
      "read = pd.load('pickled')\n",
      "read"
     ],
     "language": "python",
     "metadata": {},
     "outputs": [
      {
       "output_type": "pyout",
       "prompt_number": 4,
       "text": [
        "<class 'pandas.core.frame.DataFrame'>\n",
        "DatetimeIndex: 3124 entries, 2000-01-03 00:00:00 to 2012-06-01 00:00:00\n",
        "Data columns:\n",
        "AAPL    3124  non-null values\n",
        "BAC     3124  non-null values\n",
        "C       3124  non-null values\n",
        "GOOG    1962  non-null values\n",
        "GS      3118  non-null values\n",
        "IBM     3124  non-null values\n",
        "MS      3124  non-null values\n",
        "MSFT    3124  non-null values\n",
        "dtypes: float64(8)"
       ]
      }
     ],
     "prompt_number": 4
    },
    {
     "cell_type": "code",
     "collapsed": false,
     "input": [
      "close.to_csv('csv')\n",
      "csv = pd.read_csv('csv') #idx parse\n",
      "csv"
     ],
     "language": "python",
     "metadata": {},
     "outputs": [
      {
       "output_type": "pyout",
       "prompt_number": 5,
       "text": [
        "<class 'pandas.core.frame.DataFrame'>\n",
        "Index: 3124 entries, 2000-01-03 00:00:00 to 2012-06-01 00:00:00\n",
        "Data columns:\n",
        "AAPL    3124  non-null values\n",
        "BAC     3124  non-null values\n",
        "C       3124  non-null values\n",
        "GOOG    1962  non-null values\n",
        "GS      3118  non-null values\n",
        "IBM     3124  non-null values\n",
        "MS      3124  non-null values\n",
        "MSFT    3124  non-null values\n",
        "dtypes: float64(8)"
       ]
      }
     ],
     "prompt_number": 5
    },
    {
     "cell_type": "code",
     "collapsed": false,
     "input": [
      "zeros = np.random.randint(0, 2, len(csv)).astype(bool)\n",
      "neg = np.random.randint(0, 2, len(csv)).astype(bool)\n",
      "null = np.random.randint(0, 2, len(csv)).astype(bool)\n",
      "close.ix[zeros, 'AAPL'] = 0\n",
      "close.ix[neg, 'GS'] = -1.\n",
      "close.ix[null, 'C'] = np.nan\n",
      "close.save('has_missing')"
     ],
     "language": "python",
     "metadata": {},
     "outputs": [],
     "prompt_number": 6
    },
    {
     "cell_type": "heading",
     "level": 3,
     "metadata": {},
     "source": [
      "Filtering Prices"
     ]
    },
    {
     "cell_type": "code",
     "collapsed": false,
     "input": [
      "px = pd.load('has_missing')"
     ],
     "language": "python",
     "metadata": {},
     "outputs": [],
     "prompt_number": 15
    },
    {
     "cell_type": "code",
     "collapsed": false,
     "input": [
      "px"
     ],
     "language": "python",
     "metadata": {},
     "outputs": [
      {
       "output_type": "pyout",
       "prompt_number": 16,
       "text": [
        "<class 'pandas.core.frame.DataFrame'>\n",
        "DatetimeIndex: 3124 entries, 2000-01-03 00:00:00 to 2012-06-01 00:00:00\n",
        "Data columns:\n",
        "AAPL    3124  non-null values\n",
        "BAC     3124  non-null values\n",
        "C       1544  non-null values\n",
        "GOOG    1962  non-null values\n",
        "GS      3120  non-null values\n",
        "IBM     3124  non-null values\n",
        "MS      3124  non-null values\n",
        "MSFT    3124  non-null values\n",
        "dtypes: float64(8)"
       ]
      }
     ],
     "prompt_number": 16
    },
    {
     "cell_type": "code",
     "collapsed": false,
     "input": [
      "px.ix[10:20, 'AAPL']"
     ],
     "language": "python",
     "metadata": {},
     "outputs": [
      {
       "output_type": "pyout",
       "prompt_number": 17,
       "text": [
        "Date\n",
        "2000-01-18     0.00\n",
        "2000-01-19    26.64\n",
        "2000-01-20     0.00\n",
        "2000-01-21     0.00\n",
        "2000-01-24    26.56\n",
        "2000-01-25     0.00\n",
        "2000-01-26    27.55\n",
        "2000-01-27    27.50\n",
        "2000-01-28    25.41\n",
        "2000-01-31    25.94\n",
        "Name: AAPL"
       ]
      }
     ],
     "prompt_number": 17
    },
    {
     "cell_type": "code",
     "collapsed": false,
     "input": [
      "px.ix[10:20, 'GS']"
     ],
     "language": "python",
     "metadata": {},
     "outputs": [
      {
       "output_type": "pyout",
       "prompt_number": 18,
       "text": [
        "Date\n",
        "2000-01-18    77.59\n",
        "2000-01-19    -1.00\n",
        "2000-01-20    76.96\n",
        "2000-01-21    76.74\n",
        "2000-01-24    -1.00\n",
        "2000-01-25    75.12\n",
        "2000-01-26    79.04\n",
        "2000-01-27    79.71\n",
        "2000-01-28    -1.00\n",
        "2000-01-31    -1.00\n",
        "Name: GS"
       ]
      }
     ],
     "prompt_number": 18
    },
    {
     "cell_type": "code",
     "collapsed": false,
     "input": [
      "p1 = px.copy()\n",
      "\n",
      "zero_neg_mask = p1 <= 0\n",
      "\n",
      "p1[zero_neg_mask] = np.nan\n",
      "\n",
      "p1.ix[10:20, 'AAPL']"
     ],
     "language": "python",
     "metadata": {},
     "outputs": [
      {
       "output_type": "pyout",
       "prompt_number": 19,
       "text": [
        "Date\n",
        "2000-01-18      NaN\n",
        "2000-01-19    26.64\n",
        "2000-01-20      NaN\n",
        "2000-01-21      NaN\n",
        "2000-01-24    26.56\n",
        "2000-01-25      NaN\n",
        "2000-01-26    27.55\n",
        "2000-01-27    27.50\n",
        "2000-01-28    25.41\n",
        "2000-01-31    25.94\n",
        "Name: AAPL"
       ]
      }
     ],
     "prompt_number": 19
    },
    {
     "cell_type": "code",
     "collapsed": false,
     "input": [
      "filled = p1.fillna(method='ffill')\n",
      "filled.ix[10:20, 'AAPL']"
     ],
     "language": "python",
     "metadata": {},
     "outputs": [
      {
       "output_type": "pyout",
       "prompt_number": 20,
       "text": [
        "Date\n",
        "2000-01-18    25.11\n",
        "2000-01-19    26.64\n",
        "2000-01-20    26.64\n",
        "2000-01-21    26.64\n",
        "2000-01-24    26.56\n",
        "2000-01-25    26.56\n",
        "2000-01-26    27.55\n",
        "2000-01-27    27.50\n",
        "2000-01-28    25.41\n",
        "2000-01-31    25.94\n",
        "Name: AAPL"
       ]
      }
     ],
     "prompt_number": 20
    },
    {
     "cell_type": "code",
     "collapsed": false,
     "input": [
      "limited = p1.fillna(method='ffill', limit=2)\n",
      "limited.ix[10:20, 'AAPL']"
     ],
     "language": "python",
     "metadata": {},
     "outputs": [
      {
       "output_type": "pyout",
       "prompt_number": 21,
       "text": [
        "Date\n",
        "2000-01-18    25.11\n",
        "2000-01-19    26.64\n",
        "2000-01-20    26.64\n",
        "2000-01-21    26.64\n",
        "2000-01-24    26.56\n",
        "2000-01-25    26.56\n",
        "2000-01-26    27.55\n",
        "2000-01-27    27.50\n",
        "2000-01-28    25.41\n",
        "2000-01-31    25.94\n",
        "Name: AAPL"
       ]
      }
     ],
     "prompt_number": 21
    },
    {
     "cell_type": "markdown",
     "metadata": {},
     "source": [
      "Sometimes interpolation can be helpful to distribute returns"
     ]
    },
    {
     "cell_type": "code",
     "collapsed": false,
     "input": [
      "interp = p1.AAPL.interpolate(method='time')\n",
      "interp[10:20]"
     ],
     "language": "python",
     "metadata": {},
     "outputs": [
      {
       "output_type": "pyout",
       "prompt_number": 22,
       "text": [
        "Date\n",
        "2000-01-18    26.334\n",
        "2000-01-19    26.640\n",
        "2000-01-20    26.624\n",
        "2000-01-21    26.608\n",
        "2000-01-24    26.560\n",
        "2000-01-25    27.055\n",
        "2000-01-26    27.550\n",
        "2000-01-27    27.500\n",
        "2000-01-28    25.410\n",
        "2000-01-31    25.940\n",
        "Name: AAPL"
       ]
      }
     ],
     "prompt_number": 22
    },
    {
     "cell_type": "code",
     "collapsed": false,
     "input": [],
     "language": "python",
     "metadata": {},
     "outputs": []
    }
   ],
   "metadata": {}
  }
 ]
}