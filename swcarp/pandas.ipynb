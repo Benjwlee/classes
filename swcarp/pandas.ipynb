{
 "metadata": {
  "name": "pandas"
 },
 "nbformat": 3,
 "nbformat_minor": 0,
 "worksheets": [
  {
   "cells": [
    {
     "cell_type": "markdown",
     "metadata": {},
     "source": [
      "# Introduction to Pandas\n",
      "\n",
      "[pandas](http://pandas.pydata.org/) is a Python library for agile data processing, analysis, and modeling.\n",
      "\n",
      "We have seen that Python provides a great general computing environment and that NumPy adds a base layer of essential numerical/scientific computing features to Python.\n",
      "\n",
      "While NumPy's array mathematics are very fast and its vectorized operations are convenient, it lacks many of the essential features required by data scientists. This is where the pandas library comes in.\n",
      "\n",
      "At a high level, pandas provides easy ways to work with and wrangle real-world datasets that are often unruly:\n",
      "\n",
      "- Labeled data with automatic data alignment\n",
      "- Intelligent handling of missing data\n",
      "- Flexible merging, joins, and reshaping\n",
      "- Rich set of IO tools for various formats (CSV, txt, Excel, SQL, HDF5)\n",
      "- Powerful \"group by\" engine that performs split-apply-combine operations\n",
      "- Hierarchical indexing to work with high-dimensional data in lower-dimensional data structures\n",
      "- Time series functionality generating and manipulating date ranges"
     ]
    },
    {
     "cell_type": "code",
     "collapsed": false,
     "input": [
      "from datetime import datetime\n",
      "from pandas import Series, DataFrame, Panel\n",
      "import pandas as pd\n",
      "import pandas.io.data as web\n",
      "import matplotlib as mpl\n",
      "mpl.rc('figure', figsize=(10, 8))"
     ],
     "language": "python",
     "metadata": {},
     "outputs": []
    },
    {
     "cell_type": "markdown",
     "metadata": {},
     "source": [
      "Get data from Yahoo! Finance (Ignore the details for now if you can't follow the code)"
     ]
    },
    {
     "cell_type": "code",
     "collapsed": false,
     "input": [
      "stocks = ['AAPL', 'FB', 'GOOG']\n",
      "st = '2012-1-1'\n",
      "ed = '2012-9-29'\n",
      "prices = Panel({s : web.get_data_yahoo(s, st, ed)\n",
      "                for s in stocks})\n",
      "\n",
      "returns = prices.minor_xs('Adj Close').pct_change()"
     ],
     "language": "python",
     "metadata": {},
     "outputs": []
    },
    {
     "cell_type": "code",
     "collapsed": false,
     "input": [
      "returns = returns.dropna(how='all').sort_index(ascending=False)\n",
      "returns"
     ],
     "language": "python",
     "metadata": {},
     "outputs": []
    },
    {
     "cell_type": "code",
     "collapsed": false,
     "input": [
      "# what does dropna do?\n",
      "# ? is your friend\n",
      "returns.dropna?"
     ],
     "language": "python",
     "metadata": {},
     "outputs": []
    },
    {
     "cell_type": "code",
     "collapsed": false,
     "input": [
      "return_arr = returns.values\n",
      "\n",
      "#NumPy array\n",
      "type(return_arr)"
     ],
     "language": "python",
     "metadata": {},
     "outputs": []
    },
    {
     "cell_type": "heading",
     "level": 3,
     "metadata": {},
     "source": [
      "NumPy works great for clean and aligned data"
     ]
    },
    {
     "cell_type": "code",
     "collapsed": false,
     "input": [
      "# Standard deviation of AAPL\n",
      "\n",
      "aapl = return_arr[:, 0]\n",
      "aapl"
     ],
     "language": "python",
     "metadata": {},
     "outputs": []
    },
    {
     "cell_type": "code",
     "collapsed": false,
     "input": [
      "aapl.std()"
     ],
     "language": "python",
     "metadata": {},
     "outputs": []
    },
    {
     "cell_type": "heading",
     "level": 3,
     "metadata": {},
     "source": [
      "What if it isn't?"
     ]
    },
    {
     "cell_type": "code",
     "collapsed": false,
     "input": [
      "# Standard deviation of FB?\n",
      "\n",
      "fb = return_arr[:, 1]\n",
      "\n",
      "fb.std()"
     ],
     "language": "python",
     "metadata": {},
     "outputs": []
    },
    {
     "cell_type": "markdown",
     "metadata": {},
     "source": [
      "Why did we get nan?"
     ]
    },
    {
     "cell_type": "heading",
     "level": 3,
     "metadata": {},
     "source": [
      "What if data isn't aligned? Or of different lengths?"
     ]
    },
    {
     "cell_type": "code",
     "collapsed": false,
     "input": [
      "fb_no_na = fb[-np.isnan(fb)]\n",
      "fb_no_na"
     ],
     "language": "python",
     "metadata": {},
     "outputs": []
    },
    {
     "cell_type": "code",
     "collapsed": false,
     "input": [
      "fb_no_na + aapl"
     ],
     "language": "python",
     "metadata": {},
     "outputs": []
    },
    {
     "cell_type": "code",
     "collapsed": false,
     "input": [
      "fb_asc = fb[::-1]"
     ],
     "language": "python",
     "metadata": {},
     "outputs": []
    },
    {
     "cell_type": "code",
     "collapsed": false,
     "input": [
      "fb_asc + aapl"
     ],
     "language": "python",
     "metadata": {},
     "outputs": []
    },
    {
     "cell_type": "heading",
     "level": 3,
     "metadata": {},
     "source": [
      "Practical #1: Computing the sample stdev for an array with possibly missing data"
     ]
    },
    {
     "cell_type": "markdown",
     "metadata": {},
     "source": [
      "Reminder: $\\sigma^2_x = \\frac{N}{N-1} E[(x - \\mu_x)^2] = \\frac{N}{N-1} (E[x^2] - E^2[x])$"
     ]
    },
    {
     "cell_type": "code",
     "collapsed": false,
     "input": [
      "def nanstd(x):\n",
      "    return x[-np.isnan(x)].std()\n",
      "\n",
      "nanstd(np.array([1, 2, 3]))**2"
     ],
     "language": "python",
     "metadata": {},
     "outputs": []
    },
    {
     "cell_type": "code",
     "collapsed": false,
     "input": [
      "#is that correct?\n",
      "x = np.array([1, 2, 3])\n",
      "mu = 2\n",
      "\n",
      "float(((x - mu)**2).sum()) / (len(x) - 1)"
     ],
     "language": "python",
     "metadata": {},
     "outputs": []
    },
    {
     "cell_type": "code",
     "collapsed": false,
     "input": [
      "def nanstd(x):\n",
      "    return x[-np.isnan(x)].std(ddof=1)\n",
      "\n",
      "nanstd(np.array([1, 2, 3]))**2"
     ],
     "language": "python",
     "metadata": {},
     "outputs": []
    },
    {
     "cell_type": "markdown",
     "metadata": {},
     "source": [
      "What if we had to use a for loop? What if we needed the uncentered moment?"
     ]
    },
    {
     "cell_type": "heading",
     "level": 3,
     "metadata": {},
     "source": [
      "Pandas makes it easy to deal with unruly data"
     ]
    },
    {
     "cell_type": "code",
     "collapsed": false,
     "input": [
      "from pandas import Series\n",
      "\n",
      "vals = [1, 2, 3]\n",
      "labels = ['A', 'B', 'C']\n",
      "\n",
      "ser = Series(vals, labels)\n",
      "ser"
     ],
     "language": "python",
     "metadata": {},
     "outputs": []
    },
    {
     "cell_type": "code",
     "collapsed": false,
     "input": [
      "ser.index"
     ],
     "language": "python",
     "metadata": {},
     "outputs": []
    },
    {
     "cell_type": "code",
     "collapsed": false,
     "input": [
      "ser.values"
     ],
     "language": "python",
     "metadata": {},
     "outputs": []
    },
    {
     "cell_type": "code",
     "collapsed": false,
     "input": [
      "from pandas import DataFrame\n",
      "\n",
      "vals = [[1, 2, 3], [4, 5, 6], [7, 8, 9]]\n",
      "rows = ['B', 'C', 'D']\n",
      "cols = ['X', 'Y', 'Z']\n",
      "\n",
      "df = DataFrame(vals, rows, cols)\n",
      "df"
     ],
     "language": "python",
     "metadata": {},
     "outputs": []
    },
    {
     "cell_type": "code",
     "collapsed": false,
     "input": [
      "df.index"
     ],
     "language": "python",
     "metadata": {},
     "outputs": []
    },
    {
     "cell_type": "code",
     "collapsed": false,
     "input": [
      "df.columns"
     ],
     "language": "python",
     "metadata": {},
     "outputs": []
    },
    {
     "cell_type": "code",
     "collapsed": false,
     "input": [
      "df.values"
     ],
     "language": "python",
     "metadata": {},
     "outputs": []
    },
    {
     "cell_type": "markdown",
     "metadata": {},
     "source": [
      "Label Indexing / Slicing"
     ]
    },
    {
     "cell_type": "code",
     "collapsed": false,
     "input": [
      "ser.ix[0]"
     ],
     "language": "python",
     "metadata": {},
     "outputs": []
    },
    {
     "cell_type": "code",
     "collapsed": false,
     "input": [
      "ser.ix['A']"
     ],
     "language": "python",
     "metadata": {},
     "outputs": []
    },
    {
     "cell_type": "code",
     "collapsed": false,
     "input": [
      "df.ix[0, 2]"
     ],
     "language": "python",
     "metadata": {},
     "outputs": []
    },
    {
     "cell_type": "code",
     "collapsed": false,
     "input": [
      "df.ix['D', 'Z']"
     ],
     "language": "python",
     "metadata": {},
     "outputs": []
    },
    {
     "cell_type": "code",
     "collapsed": false,
     "input": [
      "df.ix[:, 'X':'Y']"
     ],
     "language": "python",
     "metadata": {},
     "outputs": []
    },
    {
     "cell_type": "code",
     "collapsed": false,
     "input": [
      "df.ix[:, [0, 2]]"
     ],
     "language": "python",
     "metadata": {},
     "outputs": []
    },
    {
     "cell_type": "markdown",
     "metadata": {},
     "source": [
      "Combining unaligned data"
     ]
    },
    {
     "cell_type": "code",
     "collapsed": false,
     "input": [
      "ser"
     ],
     "language": "python",
     "metadata": {},
     "outputs": []
    },
    {
     "cell_type": "code",
     "collapsed": false,
     "input": [
      "ser2 = df.ix[:, 'Y']\n",
      "ser2"
     ],
     "language": "python",
     "metadata": {},
     "outputs": []
    },
    {
     "cell_type": "code",
     "collapsed": false,
     "input": [
      "ser + ser2"
     ],
     "language": "python",
     "metadata": {},
     "outputs": []
    },
    {
     "cell_type": "markdown",
     "metadata": {},
     "source": [
      "Pandas creates the union and fills in NaN where there is no data"
     ]
    },
    {
     "cell_type": "code",
     "collapsed": false,
     "input": [
      "s1 = ser.reindex(idx)\n",
      "s2 = ser2.reindex(idx)"
     ],
     "language": "python",
     "metadata": {},
     "outputs": []
    },
    {
     "cell_type": "code",
     "collapsed": false,
     "input": [
      "s1"
     ],
     "language": "python",
     "metadata": {},
     "outputs": []
    },
    {
     "cell_type": "code",
     "collapsed": false,
     "input": [
      "s2"
     ],
     "language": "python",
     "metadata": {},
     "outputs": []
    },
    {
     "cell_type": "markdown",
     "metadata": {},
     "source": [
      "This aligns the data, but still NaN"
     ]
    },
    {
     "cell_type": "code",
     "collapsed": false,
     "input": [
      "s1 + s2"
     ],
     "language": "python",
     "metadata": {},
     "outputs": []
    },
    {
     "cell_type": "markdown",
     "metadata": {},
     "source": [
      "Need to fill the missing values"
     ]
    },
    {
     "cell_type": "code",
     "collapsed": false,
     "input": [
      "s1 = ser.reindex(idx, fill_value=0)\n",
      "s2 = ser2.reindex(idx, fill_value=0)\n",
      "\n",
      "s1 + s2"
     ],
     "language": "python",
     "metadata": {},
     "outputs": []
    },
    {
     "cell_type": "markdown",
     "metadata": {},
     "source": [
      "DataFrame operations are NaN friendly"
     ]
    },
    {
     "cell_type": "code",
     "collapsed": false,
     "input": [
      "returns = returns.sort_index()\n",
      "\n",
      "df = returns.ix['2012-05-15':'2012-06-01', :]\n",
      "df"
     ],
     "language": "python",
     "metadata": {},
     "outputs": []
    },
    {
     "cell_type": "code",
     "collapsed": false,
     "input": [
      "df.ix[:, 'FB'].std()"
     ],
     "language": "python",
     "metadata": {},
     "outputs": []
    },
    {
     "cell_type": "markdown",
     "metadata": {},
     "source": [
      "Other operations"
     ]
    },
    {
     "cell_type": "code",
     "collapsed": false,
     "input": [
      "df.sum()"
     ],
     "language": "python",
     "metadata": {},
     "outputs": []
    },
    {
     "cell_type": "code",
     "collapsed": false,
     "input": [
      "df.mean()"
     ],
     "language": "python",
     "metadata": {},
     "outputs": []
    },
    {
     "cell_type": "code",
     "collapsed": false,
     "input": [
      "df.max()"
     ],
     "language": "python",
     "metadata": {},
     "outputs": []
    },
    {
     "cell_type": "code",
     "collapsed": false,
     "input": [
      "df.min()"
     ],
     "language": "python",
     "metadata": {},
     "outputs": []
    },
    {
     "cell_type": "code",
     "collapsed": false,
     "input": [
      "df.sum(axis=1)"
     ],
     "language": "python",
     "metadata": {},
     "outputs": []
    },
    {
     "cell_type": "heading",
     "level": 3,
     "metadata": {},
     "source": [
      "Practical #2: conditional means"
     ]
    },
    {
     "cell_type": "code",
     "collapsed": false,
     "input": [
      "# Series with ['UP', 'DOWN'] as index and \n",
      "# average daily returns of GOOG when AAPL is up vs when AAPL is down\n",
      "\n",
      "select = returns['AAPL'] > 0\n",
      "goog_up = returns.ix[select, 'GOOG']\n",
      "goog_down = returns.ix[-select, 'GOOG']\n",
      "\n",
      "dd = {'UP' : goog_up.mean(),\n",
      "      'DOWN' : goog_down.mean()}\n",
      "\n",
      "s = Series(dd)\n",
      "s\n",
      "\n",
      "# df.AAPL == df['AAPL']"
     ],
     "language": "python",
     "metadata": {},
     "outputs": []
    },
    {
     "cell_type": "markdown",
     "metadata": {},
     "source": [
      "What does this hint at?"
     ]
    },
    {
     "cell_type": "code",
     "collapsed": false,
     "input": [
      "returns.corr()"
     ],
     "language": "python",
     "metadata": {},
     "outputs": []
    },
    {
     "cell_type": "code",
     "collapsed": false,
     "input": [
      "returns.cov()"
     ],
     "language": "python",
     "metadata": {},
     "outputs": []
    },
    {
     "cell_type": "heading",
     "level": 3,
     "metadata": {},
     "source": [
      "Group By: Split-Apply-Combine"
     ]
    },
    {
     "cell_type": "code",
     "collapsed": false,
     "input": [
      "# Mean return for each month\n",
      "\n",
      "months = Series(returns.index.month, returns.index)\n",
      "months"
     ],
     "language": "python",
     "metadata": {},
     "outputs": []
    },
    {
     "cell_type": "code",
     "collapsed": false,
     "input": [
      "grouped = returns.groupby(months)\n",
      "grouped"
     ],
     "language": "python",
     "metadata": {},
     "outputs": []
    },
    {
     "cell_type": "code",
     "collapsed": false,
     "input": [
      "for mth, subset in grouped:\n",
      "    print 'Month:', mth, '\\tData Type:', type(subset)"
     ],
     "language": "python",
     "metadata": {},
     "outputs": []
    },
    {
     "cell_type": "code",
     "collapsed": false,
     "input": [
      "dd = {}\n",
      "\n",
      "for mth, subset in grouped:\n",
      "    dd[mth] = subset.mean()\n",
      "\n",
      "DataFrame(dd)"
     ],
     "language": "python",
     "metadata": {},
     "outputs": []
    },
    {
     "cell_type": "code",
     "collapsed": false,
     "input": [
      "DataFrame(dd).T"
     ],
     "language": "python",
     "metadata": {},
     "outputs": []
    },
    {
     "cell_type": "markdown",
     "metadata": {},
     "source": [
      "Short cut functions"
     ]
    },
    {
     "cell_type": "code",
     "collapsed": false,
     "input": [
      "grouped.mean() # also sum, std, max, min, first, last"
     ],
     "language": "python",
     "metadata": {},
     "outputs": []
    },
    {
     "cell_type": "markdown",
     "metadata": {},
     "source": [
      "#### aggregate\n",
      "\n",
      "summary statistics per group"
     ]
    },
    {
     "cell_type": "code",
     "collapsed": false,
     "input": [
      "def mean(x):\n",
      "    return x.mean()\n",
      "\n",
      "grouped.agg(mean)"
     ],
     "language": "python",
     "metadata": {},
     "outputs": []
    },
    {
     "cell_type": "code",
     "collapsed": false,
     "input": [
      "def func(x):\n",
      "    return x.max() - x.min()\n",
      "\n",
      "grouped.agg(func)"
     ],
     "language": "python",
     "metadata": {},
     "outputs": []
    },
    {
     "cell_type": "markdown",
     "metadata": {},
     "source": [
      "#### transform\n",
      "change data but preserve index"
     ]
    },
    {
     "cell_type": "code",
     "collapsed": false,
     "input": [
      "rs = grouped.transform(lambda x: (x - x.mean()) / x.std())\n",
      "rs"
     ],
     "language": "python",
     "metadata": {},
     "outputs": []
    },
    {
     "cell_type": "code",
     "collapsed": false,
     "input": [
      "# how to verify?\n",
      "\n",
      "rs.groupby(months).mean()"
     ],
     "language": "python",
     "metadata": {},
     "outputs": []
    },
    {
     "cell_type": "code",
     "collapsed": false,
     "input": [
      "rs.groupby(months).std()"
     ],
     "language": "python",
     "metadata": {},
     "outputs": []
    },
    {
     "cell_type": "heading",
     "level": 3,
     "metadata": {},
     "source": [
      "Practical #3: Compute cumulative daily and monthly returns and plot them"
     ]
    },
    {
     "cell_type": "code",
     "collapsed": false,
     "input": [
      "# hint, you do not need to call matplotlib explicitly\n",
      "\n",
      "def compound(x):\n",
      "    return (1 + x).cumprod() - 1\n",
      "\n",
      "daily_cum = {}\n",
      "\n",
      "for stock, daily_rets in returns.iteritems():\n",
      "    daily_cum[stock] = compound(daily_rets)\n",
      "\n",
      "DataFrame(daily_cum).plot()"
     ],
     "language": "python",
     "metadata": {},
     "outputs": []
    },
    {
     "cell_type": "code",
     "collapsed": false,
     "input": [
      "# monthly cumulative returns\n",
      "def tot_ret(x):\n",
      "    return (1 + x).prod() - 1\n",
      "\n",
      "# what's the diff between prod and cumprod?\n",
      "\n",
      "month_rets = returns.groupby(months).agg(tot_ret)\n",
      "month_rets.apply(compound).plot()"
     ],
     "language": "python",
     "metadata": {},
     "outputs": []
    },
    {
     "cell_type": "heading",
     "level": 3,
     "metadata": {},
     "source": [
      "Time Series Functionality"
     ]
    },
    {
     "cell_type": "markdown",
     "metadata": {},
     "source": [
      "#### Lagging and Shifting"
     ]
    },
    {
     "cell_type": "code",
     "collapsed": false,
     "input": [
      "returns.head()"
     ],
     "language": "python",
     "metadata": {},
     "outputs": []
    },
    {
     "cell_type": "code",
     "collapsed": false,
     "input": [
      "returns.head().shift(1) # lagged "
     ],
     "language": "python",
     "metadata": {},
     "outputs": []
    },
    {
     "cell_type": "code",
     "collapsed": false,
     "input": [
      "returns.head().shift(-1) # lead"
     ],
     "language": "python",
     "metadata": {},
     "outputs": []
    },
    {
     "cell_type": "markdown",
     "metadata": {},
     "source": [
      "#### Filling Missing Data"
     ]
    },
    {
     "cell_type": "code",
     "collapsed": true,
     "input": [
      "returns.fillna(value=0.)\n",
      "# why wouldn't you want to do this?"
     ],
     "language": "python",
     "metadata": {},
     "outputs": []
    },
    {
     "cell_type": "code",
     "collapsed": false,
     "input": [
      "returns.fillna(method='bfill')\n",
      "# why wouldn't you want to do this either?"
     ],
     "language": "python",
     "metadata": {},
     "outputs": []
    },
    {
     "cell_type": "code",
     "collapsed": false,
     "input": [
      "returns.fillna(method='bfill', limit=5)"
     ],
     "language": "python",
     "metadata": {},
     "outputs": []
    },
    {
     "cell_type": "code",
     "collapsed": true,
     "input": [
      "returns.ix['2012-03-01', 'FB']"
     ],
     "language": "python",
     "metadata": {},
     "outputs": []
    },
    {
     "cell_type": "markdown",
     "metadata": {},
     "source": [
      "#### Resampling"
     ]
    },
    {
     "cell_type": "code",
     "collapsed": true,
     "input": [
      "# remember the monthly returns?\n",
      "\n",
      "def tot_ret(x):\n",
      "    return (1 + x).prod() - 1\n",
      "\n",
      "returns.resample('M', how=tot_ret)"
     ],
     "language": "python",
     "metadata": {},
     "outputs": []
    },
    {
     "cell_type": "code",
     "collapsed": false,
     "input": [
      "returns.resample('M', how='mean')"
     ],
     "language": "python",
     "metadata": {},
     "outputs": []
    },
    {
     "cell_type": "code",
     "collapsed": false,
     "input": [
      "returns.resample('M', how='sum')"
     ],
     "language": "python",
     "metadata": {},
     "outputs": []
    },
    {
     "cell_type": "code",
     "collapsed": false,
     "input": [
      "returns.resample('M', how='max')"
     ],
     "language": "python",
     "metadata": {},
     "outputs": []
    },
    {
     "cell_type": "code",
     "collapsed": false,
     "input": [
      "returns.ix[:2].resample('H')"
     ],
     "language": "python",
     "metadata": {},
     "outputs": []
    },
    {
     "cell_type": "code",
     "collapsed": true,
     "input": [
      "returns.ix[:10].resample('12H')\n",
      "\n",
      "# what's up with the longer gaps?"
     ],
     "language": "python",
     "metadata": {},
     "outputs": []
    },
    {
     "cell_type": "markdown",
     "metadata": {},
     "source": [
      "#### Generating date ranges"
     ]
    },
    {
     "cell_type": "code",
     "collapsed": false,
     "input": [
      "pd.date_range('2012-1-1', '2012-12-31') # daily by default"
     ],
     "language": "python",
     "metadata": {},
     "outputs": []
    },
    {
     "cell_type": "code",
     "collapsed": false,
     "input": [
      "pd.date_range('2012-1-1', '2012-12-31', freq='M')"
     ],
     "language": "python",
     "metadata": {},
     "outputs": []
    },
    {
     "cell_type": "code",
     "collapsed": false,
     "input": [
      "pd.date_range('2012-1-1', '2012-12-31', freq='Q')"
     ],
     "language": "python",
     "metadata": {},
     "outputs": []
    },
    {
     "cell_type": "code",
     "collapsed": false,
     "input": [
      "pd.date_range('2012-1-1', '2012-12-31', freq='W')"
     ],
     "language": "python",
     "metadata": {},
     "outputs": []
    },
    {
     "cell_type": "code",
     "collapsed": false,
     "input": [
      "pd.date_range('2012-1-1', '2012-12-31', freq='W-WED')"
     ],
     "language": "python",
     "metadata": {},
     "outputs": []
    },
    {
     "cell_type": "markdown",
     "metadata": {},
     "source": [
      "#### Intraday freq"
     ]
    },
    {
     "cell_type": "code",
     "collapsed": false,
     "input": [
      "pd.date_range('2012-1-1', '2012-1-2', freq='H')"
     ],
     "language": "python",
     "metadata": {},
     "outputs": []
    },
    {
     "cell_type": "code",
     "collapsed": false,
     "input": [
      "pd.date_range('2012-1-1 00:00:00', '2012-1-1 00:01:00', freq='M') # what did i do wrong?"
     ],
     "language": "python",
     "metadata": {},
     "outputs": []
    },
    {
     "cell_type": "code",
     "collapsed": false,
     "input": [
      "pd.date_range('2012-1-1 00:00:00', '2012-1-1 01:00:00', freq='min')"
     ],
     "language": "python",
     "metadata": {},
     "outputs": []
    },
    {
     "cell_type": "code",
     "collapsed": false,
     "input": [
      "pd.date_range('2012-1-1 00:00:00', '2012-1-1 01:00:00', freq='S')"
     ],
     "language": "python",
     "metadata": {},
     "outputs": []
    },
    {
     "cell_type": "code",
     "collapsed": false,
     "input": [
      "pd.date_range('2012-1-1 00:00:00', '2012-1-1 01:00:00', freq='L')"
     ],
     "language": "python",
     "metadata": {},
     "outputs": []
    },
    {
     "cell_type": "markdown",
     "metadata": {},
     "source": [
      "### Practical #4: \n",
      "\n",
      "#### 1. Fill in the missing returns using the average of the other stocks\n",
      "#### 2. Compute the Lag(5) autocorrelation of each stock\n",
      "#### 3. Compute the un-centered covariance matrix"
     ]
    },
    {
     "cell_type": "code",
     "collapsed": false,
     "input": [
      "# Part 1 Versions\n",
      "def fill(test_rets):\n",
      "    for date in test_rets.index:\n",
      "        row = test_rets.ix[date]\n",
      "        if pd.isnull(row['FB']):\n",
      "            row['FB'] = (row['AAPL'] + row['GOOG']) / 2.\n",
      "    return test_rets "
     ],
     "language": "python",
     "metadata": {},
     "outputs": []
    },
    {
     "cell_type": "code",
     "collapsed": false,
     "input": [
      "def fill2(test_rets):\n",
      "    for date, row in test_rets2.iterrows():\n",
      "        if pd.isnull(row['FB']):\n",
      "            row['FB'] = (row['AAPL'] + row['GOOG']) / 2.\n",
      "    return test_rets"
     ],
     "language": "python",
     "metadata": {},
     "outputs": []
    },
    {
     "cell_type": "code",
     "collapsed": false,
     "input": [
      "def fill3(test_rets):\n",
      "    for date, row in test_rets.iterrows():\n",
      "        if pd.isnull(row['FB']):\n",
      "            row['FB'] = row.ix[['AAPL', 'GOOG']].mean()\n",
      "    return test_rets"
     ],
     "language": "python",
     "metadata": {},
     "outputs": []
    },
    {
     "cell_type": "code",
     "collapsed": false,
     "input": [
      "def fill4(test_rets):\n",
      "    fill_data = test_rets.ix[:, ['AAPL', 'GOOG']].mean(axis=1)\n",
      "    test_rets['FB'] = test_rets['FB'].combine_first(fill_data)\n",
      "    return test_rets"
     ],
     "language": "python",
     "metadata": {},
     "outputs": []
    },
    {
     "cell_type": "code",
     "collapsed": false,
     "input": [
      "%timeit fill3(returns.copy())"
     ],
     "language": "python",
     "metadata": {},
     "outputs": []
    },
    {
     "cell_type": "code",
     "collapsed": false,
     "input": [
      "%timeit fill4(returns.copy())"
     ],
     "language": "python",
     "metadata": {},
     "outputs": []
    },
    {
     "cell_type": "code",
     "collapsed": false,
     "input": [
      "def fill4(rets):\n",
      "    rets = rets.copy() # Your Mutation is Bad! And you should feel Bad! \n",
      "    fill_data = rets.ix[:, ['AAPL', 'GOOG']].mean(axis=1)\n",
      "    rets['FB'] = rets['FB'].combine_first(fill_data)\n",
      "    return test_rets"
     ],
     "language": "python",
     "metadata": {},
     "outputs": []
    },
    {
     "cell_type": "markdown",
     "metadata": {},
     "source": [
      "#### Reminder from Yesterday: Vectorized is Better"
     ]
    },
    {
     "cell_type": "code",
     "collapsed": false,
     "input": [
      "# Part 2\n",
      "\n",
      "def autocorr(rets):\n",
      "    dd = {}\n",
      "    for stock in rets.columns:\n",
      "        stock_rets = rets.ix[:, stock]\n",
      "        dd[stock] = stock_rets.shift(5).corr(stock_rets)\n",
      "    return Series(dd)\n",
      "\n",
      "def autocorr2(rets):\n",
      "    def ar_n(x):\n",
      "        return x.shift(5).corr(x)\n",
      "    return rets.apply(ar_n)\n",
      "\n",
      "#assert autocorr(returns) == autocorr2(returns), 'One of these is a lie' # oops what did I do wrong?\n",
      "\n",
      "assert (autocorr(returns) == autocorr2(returns)).all(), 'One of these is a lie'"
     ],
     "language": "python",
     "metadata": {},
     "outputs": []
    },
    {
     "cell_type": "code",
     "collapsed": false,
     "input": [
      "# Part 3\n",
      "\n",
      "def cov(rets):\n",
      "    dd = {}\n",
      "    for s1, col1 in rets.iteritems():\n",
      "        sub_dict = {}\n",
      "        dd[s1] = sub_dict\n",
      "        for s2, col2 in rets.iteritems():\n",
      "            comove = col1 * col2\n",
      "            sub_dict[s2] = comove.sum() / (comove.count() - 1)\n",
      "    return DataFrame(dd)"
     ],
     "language": "python",
     "metadata": {},
     "outputs": []
    },
    {
     "cell_type": "code",
     "collapsed": false,
     "input": [
      "%timeit cov(returns)"
     ],
     "language": "python",
     "metadata": {},
     "outputs": []
    },
    {
     "cell_type": "code",
     "collapsed": false,
     "input": [
      "# But we fillted the data already!\n",
      "\n",
      "filled = fill4(returns)\n",
      "\n",
      "def cov2(rets):\n",
      "    return filled.T.dot(filled) / (filled.count() - 1)\n",
      "\n",
      "assert (cov(filled).values == cov2(filled).values).all(), 'One (or both) is (are) wrong'"
     ],
     "language": "python",
     "metadata": {},
     "outputs": []
    },
    {
     "cell_type": "code",
     "collapsed": false,
     "input": [
      "%timeit cov2(filled)"
     ],
     "language": "python",
     "metadata": {},
     "outputs": []
    },
    {
     "cell_type": "markdown",
     "metadata": {},
     "source": [
      "#### "
     ]
    },
    {
     "cell_type": "heading",
     "level": 3,
     "metadata": {},
     "source": [
      "Data IO"
     ]
    },
    {
     "cell_type": "code",
     "collapsed": false,
     "input": [
      "returns.save('rets.pickle')"
     ],
     "language": "python",
     "metadata": {},
     "outputs": []
    },
    {
     "cell_type": "code",
     "collapsed": false,
     "input": [
      "pd.load('rets.pickle')"
     ],
     "language": "python",
     "metadata": {},
     "outputs": []
    },
    {
     "cell_type": "code",
     "collapsed": false,
     "input": [
      "returns.to_csv('rets.csv')\n",
      "pd.read_csv('rets.csv')"
     ],
     "language": "python",
     "metadata": {},
     "outputs": []
    },
    {
     "cell_type": "code",
     "collapsed": false,
     "input": [
      "rs = pd.read_csv('rets.csv', index_col='Date')\n",
      "rs"
     ],
     "language": "python",
     "metadata": {},
     "outputs": []
    },
    {
     "cell_type": "code",
     "collapsed": false,
     "input": [
      "type(rs.index[0])"
     ],
     "language": "python",
     "metadata": {},
     "outputs": []
    },
    {
     "cell_type": "code",
     "collapsed": false,
     "input": [
      "rs = pd.read_csv('rets.csv', index_col='Date', parse_dates=True)\n",
      "rs.index[0]"
     ],
     "language": "python",
     "metadata": {},
     "outputs": []
    },
    {
     "cell_type": "code",
     "collapsed": false,
     "input": [
      "# save history in ipython\n",
      "\n",
      "# pd.__version__\n",
      "# np.__version__\n",
      "# import sys; sys.version\n",
      "# save hist.py 1-lineno\n"
     ],
     "language": "python",
     "metadata": {},
     "outputs": []
    }
   ],
   "metadata": {}
  }
 ]
}